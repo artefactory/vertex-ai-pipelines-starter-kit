{
 "cells": [
  {
   "cell_type": "code",
   "execution_count": 1,
   "metadata": {},
   "outputs": [
    {
     "name": "stderr",
     "output_type": "stream",
     "text": [
      "/home/jupyter/vertex-pipelines-starter-kit/venv/lib/python3.7/site-packages/tqdm/auto.py:22: TqdmWarning: IProgress not found. Please update jupyter and ipywidgets. See https://ipywidgets.readthedocs.io/en/stable/user_install.html\n",
      "  from .autonotebook import tqdm as notebook_tqdm\n"
     ]
    }
   ],
   "source": [
    "import pandas as pd\n",
    "import numpy as np\n",
    "import plotly.express as px\n",
    "import shap\n",
    "import lightgbm as lgb\n",
    "from sklearn.metrics import mean_squared_error\n",
    "from statsmodels.tsa.stattools import acf\n",
    "from IPython.display import Image, display\n",
    "\n",
    "import warnings\n",
    "warnings.filterwarnings(\"ignore\")"
   ]
  },
  {
   "cell_type": "markdown",
   "metadata": {},
   "source": [
    "# Read Data"
   ]
  },
  {
   "cell_type": "code",
   "execution_count": 2,
   "metadata": {},
   "outputs": [],
   "source": [
    "from components.base_images.utils.storage import read_from_gcs"
   ]
  },
  {
   "cell_type": "code",
   "execution_count": 3,
   "metadata": {},
   "outputs": [],
   "source": [
    "input_bucket_raw = \"vertex-pipelines-tutorial-raw\" "
   ]
  },
  {
   "cell_type": "code",
   "execution_count": 4,
   "metadata": {},
   "outputs": [],
   "source": [
    "sales_train = read_from_gcs(input_bucket_raw, \"sales_train.csv\") #pd.read_csv('data/sales_train.csv')\n",
    "sales_inference = read_from_gcs(input_bucket_raw, \"sales_inference.csv\")  #pd.read_csv('data/sales_inference.csv')\n",
    "prices = read_from_gcs(input_bucket_raw, \"prices.csv\")  #pd.read_csv('data/prices.csv')\n",
    "calendar = read_from_gcs(input_bucket_raw, \"calendar.csv\")  #pd.read_csv('data/calendar.csv')\n",
    "\n",
    "id_cols = ['item_id', 'dept_id', 'cat_id', 'store_id', 'state_id']"
   ]
  },
  {
   "cell_type": "code",
   "execution_count": 5,
   "metadata": {},
   "outputs": [
    {
     "data": {
      "text/plain": [
       "((30490, 1918), (30490, 19), (6658181, 4), (1927, 14))"
      ]
     },
     "execution_count": 5,
     "metadata": {},
     "output_type": "execute_result"
    }
   ],
   "source": [
    "sales_train.shape, sales_inference.shape, prices.shape, calendar.shape"
   ]
  },
  {
   "cell_type": "markdown",
   "metadata": {},
   "source": [
    "# Preprocessing"
   ]
  },
  {
   "cell_type": "code",
   "execution_count": 6,
   "metadata": {},
   "outputs": [],
   "source": [
    "# Select store CA_1 only\n",
    "sales_train = sales_train.loc[sales_train['store_id'] == 'CA_1']"
   ]
  },
  {
   "cell_type": "code",
   "execution_count": 7,
   "metadata": {},
   "outputs": [
    {
     "data": {
      "text/plain": [
       "(3049, 1918)"
      ]
     },
     "execution_count": 7,
     "metadata": {},
     "output_type": "execute_result"
    }
   ],
   "source": [
    "sales_train.shape"
   ]
  },
  {
   "cell_type": "code",
   "execution_count": 8,
   "metadata": {},
   "outputs": [],
   "source": [
    "# Concatenate train and inference data for pre-processing and feature engineering\n",
    "df = sales_train.merge(sales_inference, how='left', on=id_cols)\n",
    "del sales_train\n",
    "del sales_inference"
   ]
  },
  {
   "cell_type": "code",
   "execution_count": 9,
   "metadata": {},
   "outputs": [],
   "source": [
    "from components.base_images.tutorial.preprocessing.prepare import (\n",
    "    melt_sales_data,\n",
    "    reduce_memory,\n",
    "    create_release_date_column,\n",
    "    merge_sales_calendar,\n",
    "    format_calendar_data,\n",
    "    filter_out_sales_before_release_date,\n",
    "    merge_sales_prices\n",
    ")"
   ]
  },
  {
   "cell_type": "code",
   "execution_count": 10,
   "metadata": {},
   "outputs": [
    {
     "name": "stdout",
     "output_type": "stream",
     "text": [
      "Mem. usage decreased to 89.74 Mb (27.3% reduction)\n"
     ]
    }
   ],
   "source": [
    "df = df.pipe(melt_sales_data, id_cols) \\\n",
    "       .pipe(reduce_memory, id_cols) \\\n",
    "       .pipe(create_release_date_column, prices = prices) \\\n",
    "       .pipe(merge_sales_calendar, calendar = format_calendar_data(calendar)) \\\n",
    "       .pipe(filter_out_sales_before_release_date) \\\n",
    "       .pipe(merge_sales_prices, prices = prices)\n"
   ]
  },
  {
   "cell_type": "code",
   "execution_count": 11,
   "metadata": {},
   "outputs": [],
   "source": [
    "# Set categorical columns\n",
    "for col in id_cols:\n",
    "    df[col] = pd.Categorical(df[col])\n"
   ]
  },
  {
   "cell_type": "code",
   "execution_count": 12,
   "metadata": {},
   "outputs": [
    {
     "name": "stdout",
     "output_type": "stream",
     "text": [
      "(4745581, 17)\n"
     ]
    },
    {
     "data": {
      "text/html": [
       "<div>\n",
       "<style scoped>\n",
       "    .dataframe tbody tr th:only-of-type {\n",
       "        vertical-align: middle;\n",
       "    }\n",
       "\n",
       "    .dataframe tbody tr th {\n",
       "        vertical-align: top;\n",
       "    }\n",
       "\n",
       "    .dataframe thead th {\n",
       "        text-align: right;\n",
       "    }\n",
       "</style>\n",
       "<table border=\"1\" class=\"dataframe\">\n",
       "  <thead>\n",
       "    <tr style=\"text-align: right;\">\n",
       "      <th></th>\n",
       "      <th>item_id</th>\n",
       "      <th>dept_id</th>\n",
       "      <th>cat_id</th>\n",
       "      <th>store_id</th>\n",
       "      <th>state_id</th>\n",
       "      <th>sales</th>\n",
       "      <th>release</th>\n",
       "      <th>date</th>\n",
       "      <th>wm_yr_wk</th>\n",
       "      <th>event_name_1</th>\n",
       "      <th>event_type_1</th>\n",
       "      <th>event_name_2</th>\n",
       "      <th>event_type_2</th>\n",
       "      <th>snap_CA</th>\n",
       "      <th>snap_TX</th>\n",
       "      <th>snap_WI</th>\n",
       "      <th>sell_price</th>\n",
       "    </tr>\n",
       "  </thead>\n",
       "  <tbody>\n",
       "    <tr>\n",
       "      <th>0</th>\n",
       "      <td>HOBBIES_1_008</td>\n",
       "      <td>HOBBIES_1</td>\n",
       "      <td>HOBBIES</td>\n",
       "      <td>CA_1</td>\n",
       "      <td>CA</td>\n",
       "      <td>12.0</td>\n",
       "      <td>0</td>\n",
       "      <td>2011-01-29</td>\n",
       "      <td>11101</td>\n",
       "      <td>NaN</td>\n",
       "      <td>NaN</td>\n",
       "      <td>NaN</td>\n",
       "      <td>NaN</td>\n",
       "      <td>0</td>\n",
       "      <td>0</td>\n",
       "      <td>0</td>\n",
       "      <td>0.46</td>\n",
       "    </tr>\n",
       "    <tr>\n",
       "      <th>1</th>\n",
       "      <td>HOBBIES_1_009</td>\n",
       "      <td>HOBBIES_1</td>\n",
       "      <td>HOBBIES</td>\n",
       "      <td>CA_1</td>\n",
       "      <td>CA</td>\n",
       "      <td>2.0</td>\n",
       "      <td>0</td>\n",
       "      <td>2011-01-29</td>\n",
       "      <td>11101</td>\n",
       "      <td>NaN</td>\n",
       "      <td>NaN</td>\n",
       "      <td>NaN</td>\n",
       "      <td>NaN</td>\n",
       "      <td>0</td>\n",
       "      <td>0</td>\n",
       "      <td>0</td>\n",
       "      <td>1.56</td>\n",
       "    </tr>\n",
       "    <tr>\n",
       "      <th>2</th>\n",
       "      <td>HOBBIES_1_010</td>\n",
       "      <td>HOBBIES_1</td>\n",
       "      <td>HOBBIES</td>\n",
       "      <td>CA_1</td>\n",
       "      <td>CA</td>\n",
       "      <td>0.0</td>\n",
       "      <td>0</td>\n",
       "      <td>2011-01-29</td>\n",
       "      <td>11101</td>\n",
       "      <td>NaN</td>\n",
       "      <td>NaN</td>\n",
       "      <td>NaN</td>\n",
       "      <td>NaN</td>\n",
       "      <td>0</td>\n",
       "      <td>0</td>\n",
       "      <td>0</td>\n",
       "      <td>3.17</td>\n",
       "    </tr>\n",
       "    <tr>\n",
       "      <th>3</th>\n",
       "      <td>HOBBIES_1_012</td>\n",
       "      <td>HOBBIES_1</td>\n",
       "      <td>HOBBIES</td>\n",
       "      <td>CA_1</td>\n",
       "      <td>CA</td>\n",
       "      <td>0.0</td>\n",
       "      <td>0</td>\n",
       "      <td>2011-01-29</td>\n",
       "      <td>11101</td>\n",
       "      <td>NaN</td>\n",
       "      <td>NaN</td>\n",
       "      <td>NaN</td>\n",
       "      <td>NaN</td>\n",
       "      <td>0</td>\n",
       "      <td>0</td>\n",
       "      <td>0</td>\n",
       "      <td>5.98</td>\n",
       "    </tr>\n",
       "    <tr>\n",
       "      <th>4</th>\n",
       "      <td>HOBBIES_1_015</td>\n",
       "      <td>HOBBIES_1</td>\n",
       "      <td>HOBBIES</td>\n",
       "      <td>CA_1</td>\n",
       "      <td>CA</td>\n",
       "      <td>4.0</td>\n",
       "      <td>0</td>\n",
       "      <td>2011-01-29</td>\n",
       "      <td>11101</td>\n",
       "      <td>NaN</td>\n",
       "      <td>NaN</td>\n",
       "      <td>NaN</td>\n",
       "      <td>NaN</td>\n",
       "      <td>0</td>\n",
       "      <td>0</td>\n",
       "      <td>0</td>\n",
       "      <td>0.70</td>\n",
       "    </tr>\n",
       "  </tbody>\n",
       "</table>\n",
       "</div>"
      ],
      "text/plain": [
       "         item_id    dept_id   cat_id store_id state_id  sales  release  \\\n",
       "0  HOBBIES_1_008  HOBBIES_1  HOBBIES     CA_1       CA   12.0        0   \n",
       "1  HOBBIES_1_009  HOBBIES_1  HOBBIES     CA_1       CA    2.0        0   \n",
       "2  HOBBIES_1_010  HOBBIES_1  HOBBIES     CA_1       CA    0.0        0   \n",
       "3  HOBBIES_1_012  HOBBIES_1  HOBBIES     CA_1       CA    0.0        0   \n",
       "4  HOBBIES_1_015  HOBBIES_1  HOBBIES     CA_1       CA    4.0        0   \n",
       "\n",
       "        date  wm_yr_wk event_name_1 event_type_1 event_name_2 event_type_2  \\\n",
       "0 2011-01-29     11101          NaN          NaN          NaN          NaN   \n",
       "1 2011-01-29     11101          NaN          NaN          NaN          NaN   \n",
       "2 2011-01-29     11101          NaN          NaN          NaN          NaN   \n",
       "3 2011-01-29     11101          NaN          NaN          NaN          NaN   \n",
       "4 2011-01-29     11101          NaN          NaN          NaN          NaN   \n",
       "\n",
       "  snap_CA snap_TX snap_WI  sell_price  \n",
       "0       0       0       0        0.46  \n",
       "1       0       0       0        1.56  \n",
       "2       0       0       0        3.17  \n",
       "3       0       0       0        5.98  \n",
       "4       0       0       0        0.70  "
      ]
     },
     "execution_count": 12,
     "metadata": {},
     "output_type": "execute_result"
    }
   ],
   "source": [
    "print(df.shape)\n",
    "df.head()"
   ]
  },
  {
   "cell_type": "markdown",
   "metadata": {},
   "source": [
    "# Features Engineering"
   ]
  },
  {
   "cell_type": "code",
   "execution_count": 13,
   "metadata": {},
   "outputs": [],
   "source": [
    "from components.base_images.tutorial.features_engineering.time_features import get_time_features"
   ]
  },
  {
   "cell_type": "code",
   "execution_count": 14,
   "metadata": {},
   "outputs": [],
   "source": [
    "df = get_time_features(df)"
   ]
  },
  {
   "cell_type": "code",
   "execution_count": 15,
   "metadata": {},
   "outputs": [],
   "source": [
    "for col in ['dayofweek', 'month', 'weekend', 'year_month']:\n",
    "    df[col] = pd.Categorical(df[col])"
   ]
  },
  {
   "cell_type": "code",
   "execution_count": 16,
   "metadata": {},
   "outputs": [],
   "source": [
    "from components.base_images.tutorial.features_engineering.lags_and_rolling import get_lags, aggregate_lags"
   ]
  },
  {
   "cell_type": "code",
   "execution_count": 17,
   "metadata": {},
   "outputs": [],
   "source": [
    "df = get_lags(df=df, lags=range(14,35))\n",
    "df = get_lags(df=df, lags=[365])\n",
    "\n",
    "for granularity in ['cat_id', 'dept_id']:\n",
    "    df = aggregate_lags(df=df, lags=range(14,35), group_by=granularity)\n",
    "    df = aggregate_lags(df=df, lags=[365], group_by=granularity)"
   ]
  },
  {
   "cell_type": "code",
   "execution_count": 18,
   "metadata": {},
   "outputs": [],
   "source": [
    "from components.base_images.tutorial.features_engineering.lags_and_rolling import get_rolling_means"
   ]
  },
  {
   "cell_type": "code",
   "execution_count": 19,
   "metadata": {},
   "outputs": [],
   "source": [
    "for granularity in ['', '_cat_id', '_dept_id']:\n",
    "    df = get_rolling_means(df=df, lags=range(14,21), granularity=granularity)\n",
    "    df = get_rolling_means(df=df, lags=range(21,28), granularity=granularity)\n",
    "    df = get_rolling_means(df=df, lags=range(28,35), granularity=granularity)"
   ]
  },
  {
   "cell_type": "code",
   "execution_count": 20,
   "metadata": {},
   "outputs": [],
   "source": [
    "for granularity in ['', '_cat_id', '_dept_id']:\n",
    "    df = df.drop([f'sales_lag_{i}{granularity}' for i in range(21,35)], axis=1)"
   ]
  },
  {
   "cell_type": "code",
   "execution_count": 21,
   "metadata": {},
   "outputs": [],
   "source": [
    "from components.base_images.tutorial.features_engineering.price_features import get_pricing_features"
   ]
  },
  {
   "cell_type": "code",
   "execution_count": 22,
   "metadata": {},
   "outputs": [],
   "source": [
    "price_agg = [\n",
    "    # Price difference with the other products sold the same day in the same store\n",
    "    ['date', 'store_id'],\n",
    "    # Price difference with the other products sold the same day in the same store and category\n",
    "    ['date', 'store_id', 'cat_id'],\n",
    "    # Price difference with the other products sold the same day in the same store and sub-category\n",
    "    ['date', 'store_id', 'dept_id'],\n",
    "    # Price difference with the average historical price for this product in this store\n",
    "    ['item_id', 'store_id'],\n",
    "]\n",
    "\n",
    "for group_by in price_agg:\n",
    "    df = get_pricing_features(df, group_by)"
   ]
  },
  {
   "cell_type": "markdown",
   "metadata": {},
   "source": [
    "## Split"
   ]
  },
  {
   "cell_type": "code",
   "execution_count": 23,
   "metadata": {},
   "outputs": [],
   "source": [
    "validation_start_date = '2016-04-01'\n"
   ]
  },
  {
   "cell_type": "code",
   "execution_count": 24,
   "metadata": {},
   "outputs": [],
   "source": [
    "X_train = df.loc[df['date'] < validation_start_date]\n",
    "X_val = df.loc[(df['date'] >= validation_start_date) & (~pd.isnull(df['sales']))]\n",
    "X_inference = df.loc[pd.isnull(df['sales'])]"
   ]
  },
  {
   "cell_type": "markdown",
   "metadata": {},
   "source": [
    "## Clean "
   ]
  },
  {
   "cell_type": "code",
   "execution_count": 25,
   "metadata": {},
   "outputs": [],
   "source": [
    "unnecessary_cols = ['date', 'store_id', 'state_id', 'sales']\n",
    "X_train, y_train = X_train.drop(unnecessary_cols, axis=1), X_train[['sales']].values\n",
    "X_val, y_val = X_val.drop(unnecessary_cols, axis=1), X_val[['sales']].values\n",
    "X_inference = X_inference.drop(unnecessary_cols, axis=1)"
   ]
  },
  {
   "cell_type": "code",
   "execution_count": 26,
   "metadata": {},
   "outputs": [
    {
     "data": {
      "text/plain": [
       "((4629719, 58), (73176, 58), (42686, 58))"
      ]
     },
     "execution_count": 26,
     "metadata": {},
     "output_type": "execute_result"
    }
   ],
   "source": [
    "X_train.shape, X_val.shape, X_inference.shape"
   ]
  },
  {
   "cell_type": "markdown",
   "metadata": {},
   "source": [
    "# Training"
   ]
  },
  {
   "cell_type": "code",
   "execution_count": 27,
   "metadata": {},
   "outputs": [
    {
     "name": "stdout",
     "output_type": "stream",
     "text": [
      "[LightGBM] [Warning] Auto-choosing row-wise multi-threading, the overhead of testing was 0.689377 seconds.\n",
      "You can set `force_row_wise=true` to remove the overhead.\n",
      "And if memory is not enough, you can set `force_col_wise=true`.\n",
      "[LightGBM] [Info] Total Bins 12277\n",
      "[LightGBM] [Info] Number of data points in the train set: 4629719, number of used features: 58\n",
      "[LightGBM] [Info] Start training from score 1.638408\n",
      "Training until validation scores don't improve for 200 rounds\n",
      "[100]\tvalid_0's rmse: 2.1446\n",
      "[200]\tvalid_0's rmse: 2.14643\n",
      "Early stopping, best iteration is:\n",
      "[66]\tvalid_0's rmse: 2.14063\n"
     ]
    }
   ],
   "source": [
    "train_data = lgb.Dataset(X_train, y_train)\n",
    "valid_data = lgb.Dataset(X_val,y_val)\n",
    "\n",
    "lgb_params = {'metric': 'rmse', 'n_jobs': -1, 'num_boost_round': 2000, 'objective': 'regression'}\n",
    "model = lgb.train(lgb_params, train_data, early_stopping_rounds=200, valid_sets=[valid_data], verbose_eval=100)"
   ]
  },
  {
   "cell_type": "markdown",
   "metadata": {},
   "source": [
    "# Evaluation"
   ]
  },
  {
   "cell_type": "code",
   "execution_count": 28,
   "metadata": {},
   "outputs": [],
   "source": [
    "y_pred_train = model.predict(X_train)\n",
    "y_pred_val = model.predict(X_val)"
   ]
  },
  {
   "cell_type": "code",
   "execution_count": 29,
   "metadata": {},
   "outputs": [],
   "source": [
    "from components.base_images.tutorial.evaluation.evaluate import evaluate"
   ]
  },
  {
   "cell_type": "code",
   "execution_count": 30,
   "metadata": {},
   "outputs": [
    {
     "name": "stdout",
     "output_type": "stream",
     "text": [
      "Performance on training set:\n",
      "FA = 0.5112150762632418\n",
      "RMSE = 2.525768724460689\n"
     ]
    }
   ],
   "source": [
    "evaluate(y_train, y_pred_train, 'training')"
   ]
  },
  {
   "cell_type": "code",
   "execution_count": 31,
   "metadata": {},
   "outputs": [
    {
     "name": "stdout",
     "output_type": "stream",
     "text": [
      "Performance on validation set:\n",
      "FA = 0.5163575356539406\n",
      "RMSE = 2.1406304352733576\n"
     ]
    }
   ],
   "source": [
    "evaluate(y_val, y_pred_val, 'validation')"
   ]
  },
  {
   "cell_type": "markdown",
   "metadata": {},
   "source": [
    "## Explain"
   ]
  },
  {
   "cell_type": "code",
   "execution_count": 32,
   "metadata": {},
   "outputs": [],
   "source": [
    "explainer = shap.TreeExplainer(model)\n",
    "shap_values = explainer.shap_values(X_val)"
   ]
  },
  {
   "cell_type": "code",
   "execution_count": 33,
   "metadata": {},
   "outputs": [
    {
     "data": {
      "image/png": "[encoded data removed]",
      "text/plain": [
       "<Figure size 576x684 with 1 Axes>"
      ]
     },
     "metadata": {
      "needs_background": "light"
     },
     "output_type": "display_data"
    }
   ],
   "source": [
    "shap.summary_plot(shap_values, X_val, plot_type=\"bar\", show=False)"
   ]
  },
  {
   "cell_type": "code",
   "execution_count": 34,
   "metadata": {},
   "outputs": [
    {
     "data": {
      "image/png": "[encoded data removed]",
      "text/plain": [
       "<Figure size 576x684 with 2 Axes>"
      ]
     },
     "metadata": {
      "needs_background": "light"
     },
     "output_type": "display_data"
    }
   ],
   "source": [
    "shap.summary_plot(shap_values, X_val)"
   ]
  },
  {
   "cell_type": "markdown",
   "metadata": {},
   "source": [
    "# Inference"
   ]
  },
  {
   "cell_type": "code",
   "execution_count": 35,
   "metadata": {},
   "outputs": [
    {
     "name": "stdout",
     "output_type": "stream",
     "text": [
      "[LightGBM] [Warning] Auto-choosing row-wise multi-threading, the overhead of testing was 0.651403 seconds.\n",
      "You can set `force_row_wise=true` to remove the overhead.\n",
      "And if memory is not enough, you can set `force_col_wise=true`.\n",
      "[LightGBM] [Info] Total Bins 12280\n",
      "[LightGBM] [Info] Number of data points in the train set: 4702895, number of used features: 58\n",
      "[LightGBM] [Info] Start training from score 1.636910\n"
     ]
    }
   ],
   "source": [
    "# Concatenation of training and validation datasets\n",
    "X_train_final = pd.concat([X_train, X_val])\n",
    "y_train_final = pd.concat([pd.Series(y_train.ravel()), pd.Series(y_val.ravel())]).values\n",
    "\n",
    "# Re-training\n",
    "train_data = lgb.Dataset(X_train_final, y_train_final)\n",
    "lgb_params['num_boost_round'] = 150\n",
    "model = lgb.train(lgb_params, train_data)"
   ]
  },
  {
   "cell_type": "code",
   "execution_count": 36,
   "metadata": {},
   "outputs": [],
   "source": [
    "# Prediction\n",
    "X_inference['sales_pred'] = np.array(model.predict(X_inference))\n",
    "\n",
    "# Build id column for inference data\n",
    "calendar['dayofmonth'] = calendar.date.dt.day\n",
    "X_inference = X_inference.merge(calendar[['dayofmonth', 'month', 'year', 'd']], how='left', on=['dayofmonth', 'month', 'year'])\n",
    "X_inference['id'] = X_inference['item_id'].astype(str) + '_CA_1_' + X_inference['d']\n"
   ]
  },
  {
   "cell_type": "code",
   "execution_count": null,
   "metadata": {},
   "outputs": [],
   "source": []
  }
 ],
 "metadata": {
  "environment": {
   "kernel": "venv",
   "name": "common-cpu.m93",
   "type": "gcloud",
   "uri": "gcr.io/deeplearning-platform-release/base-cpu:m93"
  },
  "interpreter": {
   "hash": "a69e21479c5703ac7ebfb895a9627a906a2762b23e9b40b5318541519b3ffcad"
  },
  "kernelspec": {
   "display_name": "Python 3.9.7 64-bit ('venv': venv)",
   "name": "python3"
  },
  "language_info": {
   "codemirror_mode": {
    "name": "ipython",
    "version": 3
   },
   "file_extension": ".py",
   "mimetype": "text/x-python",
   "name": "python",
   "nbconvert_exporter": "python",
   "pygments_lexer": "ipython3",
   "version": "3.9.7"
  }
 },
 "nbformat": 4,
 "nbformat_minor": 4
}
